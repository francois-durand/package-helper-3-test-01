{
 "cells": [
  {
   "cell_type": "markdown",
   "id": "b0afe118",
   "metadata": {},
   "source": [
    "# Package Helper 3 Test 01 Tutorial"
   ]
  },
  {
   "cell_type": "markdown",
   "id": "02deaeb3",
   "metadata": {},
   "source": [
    "To facilitate the writing of your documentation, you can write Notebooks. Once included they will be rendered as the rest of your documentation pages!\n",
    "\n",
    "By default, PH3 creates a `tutorials` folder inside `docs`:\n",
    "\n",
    "- `docs/index.rst` has a link to `tutorials/index.rst`\n",
    "- `docs/tutorials/index.rst` as a link to the notebook(s).\n",
    "\n",
    "Feel free to adapt to your needs!\n",
    "\n",
    "The <h*> structure of your notebook (`#`/`##`/...) will be applied to the navigation bar of your documentation. The actual filenames are ignored.\n",
    "\n",
    "In particular:\n",
    "\n",
    "- Each notebook is rendered as a single webpage...\n",
    "- But you can create more than one entry with one unique notebook"
   ]
  },
  {
   "cell_type": "markdown",
   "id": "b1c3e483",
   "metadata": {},
   "source": [
    "## How to use MyClass1"
   ]
  },
  {
   "cell_type": "code",
   "execution_count": 1,
   "id": "cfec3903",
   "metadata": {
    "ExecuteTime": {
     "end_time": "2023-10-31T12:29:19.401399Z",
     "start_time": "2023-10-31T12:29:19.319231Z"
    }
   },
   "outputs": [],
   "source": [
    "from package_helper_3_test_01 import MyClass1"
   ]
  },
  {
   "cell_type": "code",
   "execution_count": 2,
   "id": "221a3fc1",
   "metadata": {
    "ExecuteTime": {
     "end_time": "2023-10-31T12:29:22.497029Z",
     "start_time": "2023-10-31T12:29:22.482949Z"
    }
   },
   "outputs": [
    {
     "name": "stdout",
     "output_type": "stream",
     "text": [
      "(a, b) = 42, 51\n"
     ]
    }
   ],
   "source": [
    "mc1 = MyClass1(a=42, b=51)\n",
    "print(mc1)"
   ]
  },
  {
   "cell_type": "code",
   "execution_count": 3,
   "id": "dcbc68a3",
   "metadata": {
    "ExecuteTime": {
     "end_time": "2023-10-31T12:29:24.613953Z",
     "start_time": "2023-10-31T12:29:24.579554Z"
    }
   },
   "outputs": [
    {
     "data": {
      "text/plain": [
       "1764"
      ]
     },
     "execution_count": 3,
     "metadata": {},
     "output_type": "execute_result"
    }
   ],
   "source": [
    "mc1.a_square"
   ]
  },
  {
   "cell_type": "code",
   "execution_count": 4,
   "id": "420fed8a",
   "metadata": {
    "ExecuteTime": {
     "end_time": "2023-10-31T12:29:25.006417Z",
     "start_time": "2023-10-31T12:29:24.988475Z"
    }
   },
   "outputs": [
    {
     "data": {
      "text/plain": [
       "47.0"
      ]
     },
     "execution_count": 4,
     "metadata": {},
     "output_type": "execute_result"
    }
   ],
   "source": [
    "mc1.divide_a_by_c_and_add_d(6, 40)"
   ]
  },
  {
   "cell_type": "markdown",
   "id": "0fcedc50",
   "metadata": {},
   "source": [
    "## How to use MyClass2"
   ]
  },
  {
   "cell_type": "code",
   "execution_count": 5,
   "id": "9165d681",
   "metadata": {
    "ExecuteTime": {
     "end_time": "2023-10-31T12:29:25.788915Z",
     "start_time": "2023-10-31T12:29:25.772736Z"
    }
   },
   "outputs": [],
   "source": [
    "from package_helper_3_test_01 import MyClass2"
   ]
  },
  {
   "cell_type": "code",
   "execution_count": 6,
   "id": "418d0b1c",
   "metadata": {
    "ExecuteTime": {
     "end_time": "2023-10-31T12:29:26.447324Z",
     "start_time": "2023-10-31T12:29:26.437298Z"
    }
   },
   "outputs": [
    {
     "data": {
      "text/plain": [
       "13"
      ]
     },
     "execution_count": 6,
     "metadata": {},
     "output_type": "execute_result"
    }
   ],
   "source": [
    "mc2 = MyClass2(a=9, b=4)\n",
    "mc2.addition()"
   ]
  },
  {
   "cell_type": "markdown",
   "id": "52ea47de",
   "metadata": {},
   "source": [
    "# Advanced Tutorial Where we Display Graphs"
   ]
  },
  {
   "cell_type": "markdown",
   "id": "4a563baf",
   "metadata": {},
   "source": [
    "One nice feature of using notebooks is that it is very easy to add graphs to your documentation.\n",
    "\n",
    "Don't forget to add the graphic packages you need to your poetry dependencies!"
   ]
  },
  {
   "cell_type": "code",
   "execution_count": 7,
   "id": "e2e1b064",
   "metadata": {
    "ExecuteTime": {
     "end_time": "2023-10-31T12:29:31.364179Z",
     "start_time": "2023-10-31T12:29:29.161905Z"
    }
   },
   "outputs": [
    {
     "data": {
      "image/png": "[encoded data removed]",
      "text/plain": [
       "<Figure size 432x288 with 1 Axes>"
      ]
     },
     "metadata": {
      "needs_background": "light"
     },
     "output_type": "display_data"
    }
   ],
   "source": [
    "from matplotlib import pyplot as plt\n",
    "x = [(i/100-2) for i in range(400)]\n",
    "y = [i**2 for i in x]\n",
    "plt.plot(x, y, label='$x^2$')\n",
    "plt.xlabel('x')\n",
    "plt.ylabel('y')\n",
    "plt.xlim([-2, 2])\n",
    "plt.ylim([0, 4])\n",
    "plt.show()"
   ]
  },
  {
   "cell_type": "code",
   "execution_count": null,
   "id": "76e9af41",
   "metadata": {},
   "outputs": [],
   "source": []
  }
 ],
 "metadata": {
  "kernelspec": {
   "display_name": "Python 3 (ipykernel)",
   "language": "python",
   "name": "python3"
  },
  "language_info": {
   "codemirror_mode": {
    "name": "ipython",
    "version": 3
   },
   "file_extension": ".py",
   "mimetype": "text/x-python",
   "name": "python",
   "nbconvert_exporter": "python",
   "pygments_lexer": "ipython3",
   "version": "3.9.7"
  },
  "toc": {
   "base_numbering": 1,
   "nav_menu": {},
   "number_sections": true,
   "sideBar": true,
   "skip_h1_title": false,
   "title_cell": "Table of Contents",
   "title_sidebar": "Contents",
   "toc_cell": false,
   "toc_position": {},
   "toc_section_display": true,
   "toc_window_display": false
  }
 },
 "nbformat": 4,
 "nbformat_minor": 5
}
